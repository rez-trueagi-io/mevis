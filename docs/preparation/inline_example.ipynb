{
 "cells": [
  {
   "cell_type": "code",
   "execution_count": 3,
   "id": "2e2b1fd5",
   "metadata": {},
   "outputs": [],
   "source": [
    "import mevis as mv\n",
    "\n",
    "atomspace = mv.load('moses.scm')\n",
    "mv.plot(atomspace, 'vis', 'dot').export_html('moses_vis.html')\n",
    "mv.plot(atomspace, 'three', 'neato').export_html('moses_three.html')\n",
    "mv.plot(atomspace, 'd3', 'bipartite', edge_curvature=0.4).export_html('moses_d3.html')\n",
    "\n",
    "atomspace = mv.load('rocca.scm')\n",
    "atoms = mv.filter(atomspace, target=['SLink', 'MemberLink'], mode='exclude')\n",
    "graph = mv.convert(atoms, node_size=lambda atom: 30 if atom.type_name == 'SchemaNode' else 8)\n",
    "graph = mv.layout(graph, 'twopi', scale_x=2.0, scale_y=2.0)\n",
    "fig = mv.plot(graph, 'vis')\n",
    "fig.export_html('rocca_vis.html')"
   ]
  }
 ],
 "metadata": {
  "kernelspec": {
   "display_name": "Python 3 (ipykernel)",
   "language": "python",
   "name": "python3"
  },
  "language_info": {
   "codemirror_mode": {
    "name": "ipython",
    "version": 3
   },
   "file_extension": ".py",
   "mimetype": "text/x-python",
   "name": "python",
   "nbconvert_exporter": "python",
   "pygments_lexer": "ipython3",
   "version": "3.8.12"
  }
 },
 "nbformat": 4,
 "nbformat_minor": 5
}
